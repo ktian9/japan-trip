{
 "cells": [
  {
   "cell_type": "code",
   "execution_count": 117,
   "metadata": {},
   "outputs": [],
   "source": [
    "import pandas as pd\n",
    "import geopandas as gpd\n",
    "import plotly.express as px\n",
    "\n"
   ]
  },
  {
   "cell_type": "code",
   "execution_count": 121,
   "metadata": {},
   "outputs": [],
   "source": [
    "data = pd.read_csv(\"tokyo.csv\")"
   ]
  },
  {
   "cell_type": "code",
   "execution_count": 122,
   "metadata": {},
   "outputs": [
    {
     "data": {
      "text/html": [
       "<div>\n",
       "<style scoped>\n",
       "    .dataframe tbody tr th:only-of-type {\n",
       "        vertical-align: middle;\n",
       "    }\n",
       "\n",
       "    .dataframe tbody tr th {\n",
       "        vertical-align: top;\n",
       "    }\n",
       "\n",
       "    .dataframe thead th {\n",
       "        text-align: right;\n",
       "    }\n",
       "</style>\n",
       "<table border=\"1\" class=\"dataframe\">\n",
       "  <thead>\n",
       "    <tr style=\"text-align: right;\">\n",
       "      <th></th>\n",
       "      <th>WKT</th>\n",
       "      <th>name</th>\n",
       "      <th>description</th>\n",
       "    </tr>\n",
       "  </thead>\n",
       "  <tbody>\n",
       "    <tr>\n",
       "      <th>0</th>\n",
       "      <td>POINT (139.7005046 35.6594011)</td>\n",
       "      <td>Shibuya crossing</td>\n",
       "      <td>NaN</td>\n",
       "    </tr>\n",
       "    <tr>\n",
       "      <th>1</th>\n",
       "      <td>POINT (139.7026251 35.6387161)</td>\n",
       "      <td>Nakameguro</td>\n",
       "      <td>NaN</td>\n",
       "    </tr>\n",
       "    <tr>\n",
       "      <th>2</th>\n",
       "      <td>POINT (139.7742695 35.6802902)</td>\n",
       "      <td>Pokémon Center Tokyo DX</td>\n",
       "      <td>NaN</td>\n",
       "    </tr>\n",
       "    <tr>\n",
       "      <th>3</th>\n",
       "      <td>POINT (139.7009938 35.69503750000001)</td>\n",
       "      <td>SOD LAND</td>\n",
       "      <td>NaN</td>\n",
       "    </tr>\n",
       "    <tr>\n",
       "      <th>4</th>\n",
       "      <td>POINT (139.7097661 35.7331769)</td>\n",
       "      <td>Muscle Girls Muscle Girls</td>\n",
       "      <td>NaN</td>\n",
       "    </tr>\n",
       "    <tr>\n",
       "      <th>5</th>\n",
       "      <td>POINT (139.6388669 35.4554755)</td>\n",
       "      <td>Cup Noodles Museum Yokohama (Momofuku Ando Inv...</td>\n",
       "      <td>NaN</td>\n",
       "    </tr>\n",
       "    <tr>\n",
       "      <th>6</th>\n",
       "      <td>POINT (139.7744733 35.7022589)</td>\n",
       "      <td>Akihabara</td>\n",
       "      <td>NaN</td>\n",
       "    </tr>\n",
       "    <tr>\n",
       "      <th>7</th>\n",
       "      <td>POINT (139.7026251 35.6960834)</td>\n",
       "      <td>Kabukicho</td>\n",
       "      <td>NaN</td>\n",
       "    </tr>\n",
       "    <tr>\n",
       "      <th>8</th>\n",
       "      <td>POINT (139.7634909 35.6702017)</td>\n",
       "      <td>Uniqlo Ginza</td>\n",
       "      <td>NaN</td>\n",
       "    </tr>\n",
       "    <tr>\n",
       "      <th>9</th>\n",
       "      <td>POINT (139.709008 35.6699682)</td>\n",
       "      <td>Harajuku</td>\n",
       "      <td>NaN</td>\n",
       "    </tr>\n",
       "    <tr>\n",
       "      <th>10</th>\n",
       "      <td>POINT (139.6967028 35.6715869)</td>\n",
       "      <td>Yoyogi Park</td>\n",
       "      <td>NaN</td>\n",
       "    </tr>\n",
       "    <tr>\n",
       "      <th>11</th>\n",
       "      <td>POINT (139.8107004 35.71006269999999)</td>\n",
       "      <td>Tokyo Skytree</td>\n",
       "      <td>NaN</td>\n",
       "    </tr>\n",
       "    <tr>\n",
       "      <th>12</th>\n",
       "      <td>POINT (139.7454329 35.6585805)</td>\n",
       "      <td>Tokyo Tower</td>\n",
       "      <td>NaN</td>\n",
       "    </tr>\n",
       "    <tr>\n",
       "      <th>13</th>\n",
       "      <td>POINT (139.7734312 35.7147557)</td>\n",
       "      <td>Ueno Park</td>\n",
       "      <td>NaN</td>\n",
       "    </tr>\n",
       "    <tr>\n",
       "      <th>14</th>\n",
       "      <td>POINT (139.7195415 35.7289709)</td>\n",
       "      <td>Sunshine City</td>\n",
       "      <td>NaN</td>\n",
       "    </tr>\n",
       "    <tr>\n",
       "      <th>15</th>\n",
       "      <td>POINT (139.6921007 35.6896342)</td>\n",
       "      <td>Tokyo Metropolitan Government Building</td>\n",
       "      <td>NaN</td>\n",
       "    </tr>\n",
       "    <tr>\n",
       "      <th>16</th>\n",
       "      <td>POINT (139.7047611 35.6941118)</td>\n",
       "      <td>Shinjuku Golden Gai</td>\n",
       "      <td>NaN</td>\n",
       "    </tr>\n",
       "    <tr>\n",
       "      <th>17</th>\n",
       "      <td>POINT (139.7965348 35.7106489)</td>\n",
       "      <td>Taitō Sightseeing Volunteer Guide</td>\n",
       "      <td>NaN</td>\n",
       "    </tr>\n",
       "    <tr>\n",
       "      <th>18</th>\n",
       "      <td>POINT (139.7966553 35.7147651)</td>\n",
       "      <td>Sensō-ji</td>\n",
       "      <td>NaN</td>\n",
       "    </tr>\n",
       "    <tr>\n",
       "      <th>19</th>\n",
       "      <td>POINT (139.7300767 35.6602384)</td>\n",
       "      <td>Roppongi Hills</td>\n",
       "      <td>NaN</td>\n",
       "    </tr>\n",
       "    <tr>\n",
       "      <th>20</th>\n",
       "      <td>POINT (139.7292785 35.6604621)</td>\n",
       "      <td>Mori Art Museum</td>\n",
       "      <td>NaN</td>\n",
       "    </tr>\n",
       "    <tr>\n",
       "      <th>21</th>\n",
       "      <td>POINT (139.7897739 35.6491207)</td>\n",
       "      <td>teamLab Planets TOKYO</td>\n",
       "      <td>NaN</td>\n",
       "    </tr>\n",
       "    <tr>\n",
       "      <th>22</th>\n",
       "      <td>POINT (139.7708862 35.6653213)</td>\n",
       "      <td>Tsukijijogai Market</td>\n",
       "      <td>NaN</td>\n",
       "    </tr>\n",
       "    <tr>\n",
       "      <th>23</th>\n",
       "      <td>POINT (139.6993259 35.67639760000001)</td>\n",
       "      <td>Meiji Jingu</td>\n",
       "      <td>NaN</td>\n",
       "    </tr>\n",
       "    <tr>\n",
       "      <th>24</th>\n",
       "      <td>POINT (139.7399433 35.6746667)</td>\n",
       "      <td>Hie Shrine</td>\n",
       "      <td>NaN</td>\n",
       "    </tr>\n",
       "    <tr>\n",
       "      <th>25</th>\n",
       "      <td>POINT (139.7292314 35.6604523)</td>\n",
       "      <td>Tokyo City View</td>\n",
       "      <td>NaN</td>\n",
       "    </tr>\n",
       "    <tr>\n",
       "      <th>26</th>\n",
       "      <td>POINT (139.7215039 35.7608549)</td>\n",
       "      <td>Jūjō Ginza Shopping Street</td>\n",
       "      <td>NaN</td>\n",
       "    </tr>\n",
       "    <tr>\n",
       "      <th>27</th>\n",
       "      <td>POINT (139.6656524 35.7092475)</td>\n",
       "      <td>Nakano Broadway</td>\n",
       "      <td>NaN</td>\n",
       "    </tr>\n",
       "    <tr>\n",
       "      <th>28</th>\n",
       "      <td>POINT (139.7671248 35.68123620000001)</td>\n",
       "      <td>Tokyo Station</td>\n",
       "      <td>NaN</td>\n",
       "    </tr>\n",
       "    <tr>\n",
       "      <th>29</th>\n",
       "      <td>POINT (139.7527995 35.685175)</td>\n",
       "      <td>Imperial Palace</td>\n",
       "      <td>NaN</td>\n",
       "    </tr>\n",
       "    <tr>\n",
       "      <th>30</th>\n",
       "      <td>POINT (139.5945118 35.7523856)</td>\n",
       "      <td>Toei Animation Museum</td>\n",
       "      <td>NaN</td>\n",
       "    </tr>\n",
       "    <tr>\n",
       "      <th>31</th>\n",
       "      <td>POINT (139.7678943 35.7020186)</td>\n",
       "      <td>Kanda Myojin Shrine</td>\n",
       "      <td>NaN</td>\n",
       "    </tr>\n",
       "    <tr>\n",
       "      <th>32</th>\n",
       "      <td>POINT (139.7224783 35.6852851)</td>\n",
       "      <td>Suga Jinja</td>\n",
       "      <td>NaN</td>\n",
       "    </tr>\n",
       "  </tbody>\n",
       "</table>\n",
       "</div>"
      ],
      "text/plain": [
       "                                      WKT  \\\n",
       "0          POINT (139.7005046 35.6594011)   \n",
       "1          POINT (139.7026251 35.6387161)   \n",
       "2          POINT (139.7742695 35.6802902)   \n",
       "3   POINT (139.7009938 35.69503750000001)   \n",
       "4          POINT (139.7097661 35.7331769)   \n",
       "5          POINT (139.6388669 35.4554755)   \n",
       "6          POINT (139.7744733 35.7022589)   \n",
       "7          POINT (139.7026251 35.6960834)   \n",
       "8          POINT (139.7634909 35.6702017)   \n",
       "9           POINT (139.709008 35.6699682)   \n",
       "10         POINT (139.6967028 35.6715869)   \n",
       "11  POINT (139.8107004 35.71006269999999)   \n",
       "12         POINT (139.7454329 35.6585805)   \n",
       "13         POINT (139.7734312 35.7147557)   \n",
       "14         POINT (139.7195415 35.7289709)   \n",
       "15         POINT (139.6921007 35.6896342)   \n",
       "16         POINT (139.7047611 35.6941118)   \n",
       "17         POINT (139.7965348 35.7106489)   \n",
       "18         POINT (139.7966553 35.7147651)   \n",
       "19         POINT (139.7300767 35.6602384)   \n",
       "20         POINT (139.7292785 35.6604621)   \n",
       "21         POINT (139.7897739 35.6491207)   \n",
       "22         POINT (139.7708862 35.6653213)   \n",
       "23  POINT (139.6993259 35.67639760000001)   \n",
       "24         POINT (139.7399433 35.6746667)   \n",
       "25         POINT (139.7292314 35.6604523)   \n",
       "26         POINT (139.7215039 35.7608549)   \n",
       "27         POINT (139.6656524 35.7092475)   \n",
       "28  POINT (139.7671248 35.68123620000001)   \n",
       "29          POINT (139.7527995 35.685175)   \n",
       "30         POINT (139.5945118 35.7523856)   \n",
       "31         POINT (139.7678943 35.7020186)   \n",
       "32         POINT (139.7224783 35.6852851)   \n",
       "\n",
       "                                                 name  description  \n",
       "0                                    Shibuya crossing          NaN  \n",
       "1                                          Nakameguro          NaN  \n",
       "2                             Pokémon Center Tokyo DX          NaN  \n",
       "3                                            SOD LAND          NaN  \n",
       "4                           Muscle Girls Muscle Girls          NaN  \n",
       "5   Cup Noodles Museum Yokohama (Momofuku Ando Inv...          NaN  \n",
       "6                                           Akihabara          NaN  \n",
       "7                                           Kabukicho          NaN  \n",
       "8                                        Uniqlo Ginza          NaN  \n",
       "9                                            Harajuku          NaN  \n",
       "10                                        Yoyogi Park          NaN  \n",
       "11                                      Tokyo Skytree          NaN  \n",
       "12                                        Tokyo Tower          NaN  \n",
       "13                                          Ueno Park          NaN  \n",
       "14                                      Sunshine City          NaN  \n",
       "15             Tokyo Metropolitan Government Building          NaN  \n",
       "16                                Shinjuku Golden Gai          NaN  \n",
       "17                  Taitō Sightseeing Volunteer Guide          NaN  \n",
       "18                                           Sensō-ji          NaN  \n",
       "19                                     Roppongi Hills          NaN  \n",
       "20                                    Mori Art Museum          NaN  \n",
       "21                              teamLab Planets TOKYO          NaN  \n",
       "22                                Tsukijijogai Market          NaN  \n",
       "23                                        Meiji Jingu          NaN  \n",
       "24                                         Hie Shrine          NaN  \n",
       "25                                    Tokyo City View          NaN  \n",
       "26                         Jūjō Ginza Shopping Street          NaN  \n",
       "27                                    Nakano Broadway          NaN  \n",
       "28                                      Tokyo Station          NaN  \n",
       "29                                    Imperial Palace          NaN  \n",
       "30                              Toei Animation Museum          NaN  \n",
       "31                                Kanda Myojin Shrine          NaN  \n",
       "32                                         Suga Jinja          NaN  "
      ]
     },
     "metadata": {},
     "output_type": "display_data"
    }
   ],
   "source": [
    "display(data)"
   ]
  },
  {
   "cell_type": "code",
   "execution_count": 123,
   "metadata": {},
   "outputs": [
    {
     "data": {
      "text/markdown": [
       "## Cleaning Data\n"
      ],
      "text/plain": [
       "<IPython.core.display.Markdown object>"
      ]
     },
     "metadata": {},
     "output_type": "display_data"
    }
   ],
   "source": [
    "%%markdown\n",
    "## Cleaning Data"
   ]
  },
  {
   "cell_type": "code",
   "execution_count": 124,
   "metadata": {},
   "outputs": [],
   "source": [
    "data['long'] = data['WKT'].apply(lambda x : float(x.replace(\"(\", \"\").replace(\")\", \"\").replace(\"POINT\", \"\").split(\" \")[1]))"
   ]
  },
  {
   "cell_type": "code",
   "execution_count": 125,
   "metadata": {},
   "outputs": [],
   "source": [
    "data['lat'] = data['WKT'].apply(lambda x : float(x.replace(\"(\", \"\").replace(\")\", \"\").replace(\"POINT\", \"\").split(\" \")[2]))"
   ]
  },
  {
   "cell_type": "code",
   "execution_count": 126,
   "metadata": {},
   "outputs": [
    {
     "data": {
      "text/html": [
       "<div>\n",
       "<style scoped>\n",
       "    .dataframe tbody tr th:only-of-type {\n",
       "        vertical-align: middle;\n",
       "    }\n",
       "\n",
       "    .dataframe tbody tr th {\n",
       "        vertical-align: top;\n",
       "    }\n",
       "\n",
       "    .dataframe thead th {\n",
       "        text-align: right;\n",
       "    }\n",
       "</style>\n",
       "<table border=\"1\" class=\"dataframe\">\n",
       "  <thead>\n",
       "    <tr style=\"text-align: right;\">\n",
       "      <th></th>\n",
       "      <th>WKT</th>\n",
       "      <th>name</th>\n",
       "      <th>description</th>\n",
       "      <th>long</th>\n",
       "      <th>lat</th>\n",
       "    </tr>\n",
       "  </thead>\n",
       "  <tbody>\n",
       "    <tr>\n",
       "      <th>0</th>\n",
       "      <td>POINT (139.7005046 35.6594011)</td>\n",
       "      <td>Shibuya crossing</td>\n",
       "      <td>NaN</td>\n",
       "      <td>139.700505</td>\n",
       "      <td>35.659401</td>\n",
       "    </tr>\n",
       "    <tr>\n",
       "      <th>1</th>\n",
       "      <td>POINT (139.7026251 35.6387161)</td>\n",
       "      <td>Nakameguro</td>\n",
       "      <td>NaN</td>\n",
       "      <td>139.702625</td>\n",
       "      <td>35.638716</td>\n",
       "    </tr>\n",
       "    <tr>\n",
       "      <th>2</th>\n",
       "      <td>POINT (139.7742695 35.6802902)</td>\n",
       "      <td>Pokémon Center Tokyo DX</td>\n",
       "      <td>NaN</td>\n",
       "      <td>139.774270</td>\n",
       "      <td>35.680290</td>\n",
       "    </tr>\n",
       "    <tr>\n",
       "      <th>3</th>\n",
       "      <td>POINT (139.7009938 35.69503750000001)</td>\n",
       "      <td>SOD LAND</td>\n",
       "      <td>NaN</td>\n",
       "      <td>139.700994</td>\n",
       "      <td>35.695038</td>\n",
       "    </tr>\n",
       "    <tr>\n",
       "      <th>4</th>\n",
       "      <td>POINT (139.7097661 35.7331769)</td>\n",
       "      <td>Muscle Girls Muscle Girls</td>\n",
       "      <td>NaN</td>\n",
       "      <td>139.709766</td>\n",
       "      <td>35.733177</td>\n",
       "    </tr>\n",
       "    <tr>\n",
       "      <th>5</th>\n",
       "      <td>POINT (139.6388669 35.4554755)</td>\n",
       "      <td>Cup Noodles Museum Yokohama (Momofuku Ando Inv...</td>\n",
       "      <td>NaN</td>\n",
       "      <td>139.638867</td>\n",
       "      <td>35.455475</td>\n",
       "    </tr>\n",
       "    <tr>\n",
       "      <th>6</th>\n",
       "      <td>POINT (139.7744733 35.7022589)</td>\n",
       "      <td>Akihabara</td>\n",
       "      <td>NaN</td>\n",
       "      <td>139.774473</td>\n",
       "      <td>35.702259</td>\n",
       "    </tr>\n",
       "    <tr>\n",
       "      <th>7</th>\n",
       "      <td>POINT (139.7026251 35.6960834)</td>\n",
       "      <td>Kabukicho</td>\n",
       "      <td>NaN</td>\n",
       "      <td>139.702625</td>\n",
       "      <td>35.696083</td>\n",
       "    </tr>\n",
       "    <tr>\n",
       "      <th>8</th>\n",
       "      <td>POINT (139.7634909 35.6702017)</td>\n",
       "      <td>Uniqlo Ginza</td>\n",
       "      <td>NaN</td>\n",
       "      <td>139.763491</td>\n",
       "      <td>35.670202</td>\n",
       "    </tr>\n",
       "    <tr>\n",
       "      <th>9</th>\n",
       "      <td>POINT (139.709008 35.6699682)</td>\n",
       "      <td>Harajuku</td>\n",
       "      <td>NaN</td>\n",
       "      <td>139.709008</td>\n",
       "      <td>35.669968</td>\n",
       "    </tr>\n",
       "    <tr>\n",
       "      <th>10</th>\n",
       "      <td>POINT (139.6967028 35.6715869)</td>\n",
       "      <td>Yoyogi Park</td>\n",
       "      <td>NaN</td>\n",
       "      <td>139.696703</td>\n",
       "      <td>35.671587</td>\n",
       "    </tr>\n",
       "    <tr>\n",
       "      <th>11</th>\n",
       "      <td>POINT (139.8107004 35.71006269999999)</td>\n",
       "      <td>Tokyo Skytree</td>\n",
       "      <td>NaN</td>\n",
       "      <td>139.810700</td>\n",
       "      <td>35.710063</td>\n",
       "    </tr>\n",
       "    <tr>\n",
       "      <th>12</th>\n",
       "      <td>POINT (139.7454329 35.6585805)</td>\n",
       "      <td>Tokyo Tower</td>\n",
       "      <td>NaN</td>\n",
       "      <td>139.745433</td>\n",
       "      <td>35.658580</td>\n",
       "    </tr>\n",
       "    <tr>\n",
       "      <th>13</th>\n",
       "      <td>POINT (139.7734312 35.7147557)</td>\n",
       "      <td>Ueno Park</td>\n",
       "      <td>NaN</td>\n",
       "      <td>139.773431</td>\n",
       "      <td>35.714756</td>\n",
       "    </tr>\n",
       "    <tr>\n",
       "      <th>14</th>\n",
       "      <td>POINT (139.7195415 35.7289709)</td>\n",
       "      <td>Sunshine City</td>\n",
       "      <td>NaN</td>\n",
       "      <td>139.719541</td>\n",
       "      <td>35.728971</td>\n",
       "    </tr>\n",
       "    <tr>\n",
       "      <th>15</th>\n",
       "      <td>POINT (139.6921007 35.6896342)</td>\n",
       "      <td>Tokyo Metropolitan Government Building</td>\n",
       "      <td>NaN</td>\n",
       "      <td>139.692101</td>\n",
       "      <td>35.689634</td>\n",
       "    </tr>\n",
       "    <tr>\n",
       "      <th>16</th>\n",
       "      <td>POINT (139.7047611 35.6941118)</td>\n",
       "      <td>Shinjuku Golden Gai</td>\n",
       "      <td>NaN</td>\n",
       "      <td>139.704761</td>\n",
       "      <td>35.694112</td>\n",
       "    </tr>\n",
       "    <tr>\n",
       "      <th>17</th>\n",
       "      <td>POINT (139.7965348 35.7106489)</td>\n",
       "      <td>Taitō Sightseeing Volunteer Guide</td>\n",
       "      <td>NaN</td>\n",
       "      <td>139.796535</td>\n",
       "      <td>35.710649</td>\n",
       "    </tr>\n",
       "    <tr>\n",
       "      <th>18</th>\n",
       "      <td>POINT (139.7966553 35.7147651)</td>\n",
       "      <td>Sensō-ji</td>\n",
       "      <td>NaN</td>\n",
       "      <td>139.796655</td>\n",
       "      <td>35.714765</td>\n",
       "    </tr>\n",
       "    <tr>\n",
       "      <th>19</th>\n",
       "      <td>POINT (139.7300767 35.6602384)</td>\n",
       "      <td>Roppongi Hills</td>\n",
       "      <td>NaN</td>\n",
       "      <td>139.730077</td>\n",
       "      <td>35.660238</td>\n",
       "    </tr>\n",
       "    <tr>\n",
       "      <th>20</th>\n",
       "      <td>POINT (139.7292785 35.6604621)</td>\n",
       "      <td>Mori Art Museum</td>\n",
       "      <td>NaN</td>\n",
       "      <td>139.729278</td>\n",
       "      <td>35.660462</td>\n",
       "    </tr>\n",
       "    <tr>\n",
       "      <th>21</th>\n",
       "      <td>POINT (139.7897739 35.6491207)</td>\n",
       "      <td>teamLab Planets TOKYO</td>\n",
       "      <td>NaN</td>\n",
       "      <td>139.789774</td>\n",
       "      <td>35.649121</td>\n",
       "    </tr>\n",
       "    <tr>\n",
       "      <th>22</th>\n",
       "      <td>POINT (139.7708862 35.6653213)</td>\n",
       "      <td>Tsukijijogai Market</td>\n",
       "      <td>NaN</td>\n",
       "      <td>139.770886</td>\n",
       "      <td>35.665321</td>\n",
       "    </tr>\n",
       "    <tr>\n",
       "      <th>23</th>\n",
       "      <td>POINT (139.6993259 35.67639760000001)</td>\n",
       "      <td>Meiji Jingu</td>\n",
       "      <td>NaN</td>\n",
       "      <td>139.699326</td>\n",
       "      <td>35.676398</td>\n",
       "    </tr>\n",
       "    <tr>\n",
       "      <th>24</th>\n",
       "      <td>POINT (139.7399433 35.6746667)</td>\n",
       "      <td>Hie Shrine</td>\n",
       "      <td>NaN</td>\n",
       "      <td>139.739943</td>\n",
       "      <td>35.674667</td>\n",
       "    </tr>\n",
       "    <tr>\n",
       "      <th>25</th>\n",
       "      <td>POINT (139.7292314 35.6604523)</td>\n",
       "      <td>Tokyo City View</td>\n",
       "      <td>NaN</td>\n",
       "      <td>139.729231</td>\n",
       "      <td>35.660452</td>\n",
       "    </tr>\n",
       "    <tr>\n",
       "      <th>26</th>\n",
       "      <td>POINT (139.7215039 35.7608549)</td>\n",
       "      <td>Jūjō Ginza Shopping Street</td>\n",
       "      <td>NaN</td>\n",
       "      <td>139.721504</td>\n",
       "      <td>35.760855</td>\n",
       "    </tr>\n",
       "    <tr>\n",
       "      <th>27</th>\n",
       "      <td>POINT (139.6656524 35.7092475)</td>\n",
       "      <td>Nakano Broadway</td>\n",
       "      <td>NaN</td>\n",
       "      <td>139.665652</td>\n",
       "      <td>35.709247</td>\n",
       "    </tr>\n",
       "    <tr>\n",
       "      <th>28</th>\n",
       "      <td>POINT (139.7671248 35.68123620000001)</td>\n",
       "      <td>Tokyo Station</td>\n",
       "      <td>NaN</td>\n",
       "      <td>139.767125</td>\n",
       "      <td>35.681236</td>\n",
       "    </tr>\n",
       "    <tr>\n",
       "      <th>29</th>\n",
       "      <td>POINT (139.7527995 35.685175)</td>\n",
       "      <td>Imperial Palace</td>\n",
       "      <td>NaN</td>\n",
       "      <td>139.752800</td>\n",
       "      <td>35.685175</td>\n",
       "    </tr>\n",
       "    <tr>\n",
       "      <th>30</th>\n",
       "      <td>POINT (139.5945118 35.7523856)</td>\n",
       "      <td>Toei Animation Museum</td>\n",
       "      <td>NaN</td>\n",
       "      <td>139.594512</td>\n",
       "      <td>35.752386</td>\n",
       "    </tr>\n",
       "    <tr>\n",
       "      <th>31</th>\n",
       "      <td>POINT (139.7678943 35.7020186)</td>\n",
       "      <td>Kanda Myojin Shrine</td>\n",
       "      <td>NaN</td>\n",
       "      <td>139.767894</td>\n",
       "      <td>35.702019</td>\n",
       "    </tr>\n",
       "    <tr>\n",
       "      <th>32</th>\n",
       "      <td>POINT (139.7224783 35.6852851)</td>\n",
       "      <td>Suga Jinja</td>\n",
       "      <td>NaN</td>\n",
       "      <td>139.722478</td>\n",
       "      <td>35.685285</td>\n",
       "    </tr>\n",
       "  </tbody>\n",
       "</table>\n",
       "</div>"
      ],
      "text/plain": [
       "                                      WKT  \\\n",
       "0          POINT (139.7005046 35.6594011)   \n",
       "1          POINT (139.7026251 35.6387161)   \n",
       "2          POINT (139.7742695 35.6802902)   \n",
       "3   POINT (139.7009938 35.69503750000001)   \n",
       "4          POINT (139.7097661 35.7331769)   \n",
       "5          POINT (139.6388669 35.4554755)   \n",
       "6          POINT (139.7744733 35.7022589)   \n",
       "7          POINT (139.7026251 35.6960834)   \n",
       "8          POINT (139.7634909 35.6702017)   \n",
       "9           POINT (139.709008 35.6699682)   \n",
       "10         POINT (139.6967028 35.6715869)   \n",
       "11  POINT (139.8107004 35.71006269999999)   \n",
       "12         POINT (139.7454329 35.6585805)   \n",
       "13         POINT (139.7734312 35.7147557)   \n",
       "14         POINT (139.7195415 35.7289709)   \n",
       "15         POINT (139.6921007 35.6896342)   \n",
       "16         POINT (139.7047611 35.6941118)   \n",
       "17         POINT (139.7965348 35.7106489)   \n",
       "18         POINT (139.7966553 35.7147651)   \n",
       "19         POINT (139.7300767 35.6602384)   \n",
       "20         POINT (139.7292785 35.6604621)   \n",
       "21         POINT (139.7897739 35.6491207)   \n",
       "22         POINT (139.7708862 35.6653213)   \n",
       "23  POINT (139.6993259 35.67639760000001)   \n",
       "24         POINT (139.7399433 35.6746667)   \n",
       "25         POINT (139.7292314 35.6604523)   \n",
       "26         POINT (139.7215039 35.7608549)   \n",
       "27         POINT (139.6656524 35.7092475)   \n",
       "28  POINT (139.7671248 35.68123620000001)   \n",
       "29          POINT (139.7527995 35.685175)   \n",
       "30         POINT (139.5945118 35.7523856)   \n",
       "31         POINT (139.7678943 35.7020186)   \n",
       "32         POINT (139.7224783 35.6852851)   \n",
       "\n",
       "                                                 name  description  \\\n",
       "0                                    Shibuya crossing          NaN   \n",
       "1                                          Nakameguro          NaN   \n",
       "2                             Pokémon Center Tokyo DX          NaN   \n",
       "3                                            SOD LAND          NaN   \n",
       "4                           Muscle Girls Muscle Girls          NaN   \n",
       "5   Cup Noodles Museum Yokohama (Momofuku Ando Inv...          NaN   \n",
       "6                                           Akihabara          NaN   \n",
       "7                                           Kabukicho          NaN   \n",
       "8                                        Uniqlo Ginza          NaN   \n",
       "9                                            Harajuku          NaN   \n",
       "10                                        Yoyogi Park          NaN   \n",
       "11                                      Tokyo Skytree          NaN   \n",
       "12                                        Tokyo Tower          NaN   \n",
       "13                                          Ueno Park          NaN   \n",
       "14                                      Sunshine City          NaN   \n",
       "15             Tokyo Metropolitan Government Building          NaN   \n",
       "16                                Shinjuku Golden Gai          NaN   \n",
       "17                  Taitō Sightseeing Volunteer Guide          NaN   \n",
       "18                                           Sensō-ji          NaN   \n",
       "19                                     Roppongi Hills          NaN   \n",
       "20                                    Mori Art Museum          NaN   \n",
       "21                              teamLab Planets TOKYO          NaN   \n",
       "22                                Tsukijijogai Market          NaN   \n",
       "23                                        Meiji Jingu          NaN   \n",
       "24                                         Hie Shrine          NaN   \n",
       "25                                    Tokyo City View          NaN   \n",
       "26                         Jūjō Ginza Shopping Street          NaN   \n",
       "27                                    Nakano Broadway          NaN   \n",
       "28                                      Tokyo Station          NaN   \n",
       "29                                    Imperial Palace          NaN   \n",
       "30                              Toei Animation Museum          NaN   \n",
       "31                                Kanda Myojin Shrine          NaN   \n",
       "32                                         Suga Jinja          NaN   \n",
       "\n",
       "          long        lat  \n",
       "0   139.700505  35.659401  \n",
       "1   139.702625  35.638716  \n",
       "2   139.774270  35.680290  \n",
       "3   139.700994  35.695038  \n",
       "4   139.709766  35.733177  \n",
       "5   139.638867  35.455475  \n",
       "6   139.774473  35.702259  \n",
       "7   139.702625  35.696083  \n",
       "8   139.763491  35.670202  \n",
       "9   139.709008  35.669968  \n",
       "10  139.696703  35.671587  \n",
       "11  139.810700  35.710063  \n",
       "12  139.745433  35.658580  \n",
       "13  139.773431  35.714756  \n",
       "14  139.719541  35.728971  \n",
       "15  139.692101  35.689634  \n",
       "16  139.704761  35.694112  \n",
       "17  139.796535  35.710649  \n",
       "18  139.796655  35.714765  \n",
       "19  139.730077  35.660238  \n",
       "20  139.729278  35.660462  \n",
       "21  139.789774  35.649121  \n",
       "22  139.770886  35.665321  \n",
       "23  139.699326  35.676398  \n",
       "24  139.739943  35.674667  \n",
       "25  139.729231  35.660452  \n",
       "26  139.721504  35.760855  \n",
       "27  139.665652  35.709247  \n",
       "28  139.767125  35.681236  \n",
       "29  139.752800  35.685175  \n",
       "30  139.594512  35.752386  \n",
       "31  139.767894  35.702019  \n",
       "32  139.722478  35.685285  "
      ]
     },
     "execution_count": 126,
     "metadata": {},
     "output_type": "execute_result"
    }
   ],
   "source": [
    "data"
   ]
  },
  {
   "cell_type": "code",
   "execution_count": 145,
   "metadata": {},
   "outputs": [
    {
     "data": {
      "text/markdown": [
       "## Prelim-vis\n"
      ],
      "text/plain": [
       "<IPython.core.display.Markdown object>"
      ]
     },
     "metadata": {},
     "output_type": "display_data"
    }
   ],
   "source": [
    "%%markdown\n",
    "## Prelim-vis"
   ]
  },
  {
   "cell_type": "code",
   "execution_count": 146,
   "metadata": {},
   "outputs": [
    {
     "data": {
      "application/vnd.plotly.v1+json": {
       "config": {
        "plotlyServerURL": "https://plot.ly"
       },
       "data": [
        {
         "hovertemplate": "<b>%{hovertext}</b><br><br>name=Shibuya crossing<br>lat=%{lat}<br>long=%{lon}<extra></extra>",
         "hovertext": [
          "Shibuya crossing"
         ],
         "lat": [
          35.6594011
         ],
         "legendgroup": "Shibuya crossing",
         "lon": [
          139.7005046
         ],
         "marker": {
          "color": "#636efa"
         },
         "mode": "markers",
         "name": "Shibuya crossing",
         "showlegend": true,
         "subplot": "mapbox",
         "type": "scattermapbox"
        },
        {
         "hovertemplate": "<b>%{hovertext}</b><br><br>name=Nakameguro<br>lat=%{lat}<br>long=%{lon}<extra></extra>",
         "hovertext": [
          "Nakameguro"
         ],
         "lat": [
          35.6387161
         ],
         "legendgroup": "Nakameguro",
         "lon": [
          139.7026251
         ],
         "marker": {
          "color": "#EF553B"
         },
         "mode": "markers",
         "name": "Nakameguro",
         "showlegend": true,
         "subplot": "mapbox",
         "type": "scattermapbox"
        },
        {
         "hovertemplate": "<b>%{hovertext}</b><br><br>name=Pokémon Center Tokyo DX<br>lat=%{lat}<br>long=%{lon}<extra></extra>",
         "hovertext": [
          "Pokémon Center Tokyo DX"
         ],
         "lat": [
          35.6802902
         ],
         "legendgroup": "Pokémon Center Tokyo DX",
         "lon": [
          139.7742695
         ],
         "marker": {
          "color": "#00cc96"
         },
         "mode": "markers",
         "name": "Pokémon Center Tokyo DX",
         "showlegend": true,
         "subplot": "mapbox",
         "type": "scattermapbox"
        },
        {
         "hovertemplate": "<b>%{hovertext}</b><br><br>name=SOD LAND<br>lat=%{lat}<br>long=%{lon}<extra></extra>",
         "hovertext": [
          "SOD LAND"
         ],
         "lat": [
          35.69503750000001
         ],
         "legendgroup": "SOD LAND",
         "lon": [
          139.7009938
         ],
         "marker": {
          "color": "#ab63fa"
         },
         "mode": "markers",
         "name": "SOD LAND",
         "showlegend": true,
         "subplot": "mapbox",
         "type": "scattermapbox"
        },
        {
         "hovertemplate": "<b>%{hovertext}</b><br><br>name=Muscle Girls Muscle Girls<br>lat=%{lat}<br>long=%{lon}<extra></extra>",
         "hovertext": [
          "Muscle Girls Muscle Girls"
         ],
         "lat": [
          35.7331769
         ],
         "legendgroup": "Muscle Girls Muscle Girls",
         "lon": [
          139.7097661
         ],
         "marker": {
          "color": "#FFA15A"
         },
         "mode": "markers",
         "name": "Muscle Girls Muscle Girls",
         "showlegend": true,
         "subplot": "mapbox",
         "type": "scattermapbox"
        },
        {
         "hovertemplate": "<b>%{hovertext}</b><br><br>name=Cup Noodles Museum Yokohama (Momofuku Ando Invention Memorial)<br>lat=%{lat}<br>long=%{lon}<extra></extra>",
         "hovertext": [
          "Cup Noodles Museum Yokohama (Momofuku Ando Invention Memorial)"
         ],
         "lat": [
          35.4554755
         ],
         "legendgroup": "Cup Noodles Museum Yokohama (Momofuku Ando Invention Memorial)",
         "lon": [
          139.6388669
         ],
         "marker": {
          "color": "#19d3f3"
         },
         "mode": "markers",
         "name": "Cup Noodles Museum Yokohama (Momofuku Ando Invention Memorial)",
         "showlegend": true,
         "subplot": "mapbox",
         "type": "scattermapbox"
        },
        {
         "hovertemplate": "<b>%{hovertext}</b><br><br>name=Akihabara<br>lat=%{lat}<br>long=%{lon}<extra></extra>",
         "hovertext": [
          "Akihabara"
         ],
         "lat": [
          35.7022589
         ],
         "legendgroup": "Akihabara",
         "lon": [
          139.7744733
         ],
         "marker": {
          "color": "#FF6692"
         },
         "mode": "markers",
         "name": "Akihabara",
         "showlegend": true,
         "subplot": "mapbox",
         "type": "scattermapbox"
        },
        {
         "hovertemplate": "<b>%{hovertext}</b><br><br>name=Kabukicho<br>lat=%{lat}<br>long=%{lon}<extra></extra>",
         "hovertext": [
          "Kabukicho"
         ],
         "lat": [
          35.6960834
         ],
         "legendgroup": "Kabukicho",
         "lon": [
          139.7026251
         ],
         "marker": {
          "color": "#B6E880"
         },
         "mode": "markers",
         "name": "Kabukicho",
         "showlegend": true,
         "subplot": "mapbox",
         "type": "scattermapbox"
        },
        {
         "hovertemplate": "<b>%{hovertext}</b><br><br>name=Uniqlo Ginza<br>lat=%{lat}<br>long=%{lon}<extra></extra>",
         "hovertext": [
          "Uniqlo Ginza"
         ],
         "lat": [
          35.6702017
         ],
         "legendgroup": "Uniqlo Ginza",
         "lon": [
          139.7634909
         ],
         "marker": {
          "color": "#FF97FF"
         },
         "mode": "markers",
         "name": "Uniqlo Ginza",
         "showlegend": true,
         "subplot": "mapbox",
         "type": "scattermapbox"
        },
        {
         "hovertemplate": "<b>%{hovertext}</b><br><br>name=Harajuku<br>lat=%{lat}<br>long=%{lon}<extra></extra>",
         "hovertext": [
          "Harajuku"
         ],
         "lat": [
          35.6699682
         ],
         "legendgroup": "Harajuku",
         "lon": [
          139.709008
         ],
         "marker": {
          "color": "#FECB52"
         },
         "mode": "markers",
         "name": "Harajuku",
         "showlegend": true,
         "subplot": "mapbox",
         "type": "scattermapbox"
        },
        {
         "hovertemplate": "<b>%{hovertext}</b><br><br>name=Yoyogi Park<br>lat=%{lat}<br>long=%{lon}<extra></extra>",
         "hovertext": [
          "Yoyogi Park"
         ],
         "lat": [
          35.6715869
         ],
         "legendgroup": "Yoyogi Park",
         "lon": [
          139.6967028
         ],
         "marker": {
          "color": "#636efa"
         },
         "mode": "markers",
         "name": "Yoyogi Park",
         "showlegend": true,
         "subplot": "mapbox",
         "type": "scattermapbox"
        },
        {
         "hovertemplate": "<b>%{hovertext}</b><br><br>name=Tokyo Skytree<br>lat=%{lat}<br>long=%{lon}<extra></extra>",
         "hovertext": [
          "Tokyo Skytree"
         ],
         "lat": [
          35.71006269999999
         ],
         "legendgroup": "Tokyo Skytree",
         "lon": [
          139.8107004
         ],
         "marker": {
          "color": "#EF553B"
         },
         "mode": "markers",
         "name": "Tokyo Skytree",
         "showlegend": true,
         "subplot": "mapbox",
         "type": "scattermapbox"
        },
        {
         "hovertemplate": "<b>%{hovertext}</b><br><br>name=Tokyo Tower<br>lat=%{lat}<br>long=%{lon}<extra></extra>",
         "hovertext": [
          "Tokyo Tower"
         ],
         "lat": [
          35.6585805
         ],
         "legendgroup": "Tokyo Tower",
         "lon": [
          139.7454329
         ],
         "marker": {
          "color": "#00cc96"
         },
         "mode": "markers",
         "name": "Tokyo Tower",
         "showlegend": true,
         "subplot": "mapbox",
         "type": "scattermapbox"
        },
        {
         "hovertemplate": "<b>%{hovertext}</b><br><br>name=Ueno Park<br>lat=%{lat}<br>long=%{lon}<extra></extra>",
         "hovertext": [
          "Ueno Park"
         ],
         "lat": [
          35.7147557
         ],
         "legendgroup": "Ueno Park",
         "lon": [
          139.7734312
         ],
         "marker": {
          "color": "#ab63fa"
         },
         "mode": "markers",
         "name": "Ueno Park",
         "showlegend": true,
         "subplot": "mapbox",
         "type": "scattermapbox"
        },
        {
         "hovertemplate": "<b>%{hovertext}</b><br><br>name=Sunshine City<br>lat=%{lat}<br>long=%{lon}<extra></extra>",
         "hovertext": [
          "Sunshine City"
         ],
         "lat": [
          35.7289709
         ],
         "legendgroup": "Sunshine City",
         "lon": [
          139.7195415
         ],
         "marker": {
          "color": "#FFA15A"
         },
         "mode": "markers",
         "name": "Sunshine City",
         "showlegend": true,
         "subplot": "mapbox",
         "type": "scattermapbox"
        },
        {
         "hovertemplate": "<b>%{hovertext}</b><br><br>name=Tokyo Metropolitan Government Building<br>lat=%{lat}<br>long=%{lon}<extra></extra>",
         "hovertext": [
          "Tokyo Metropolitan Government Building"
         ],
         "lat": [
          35.6896342
         ],
         "legendgroup": "Tokyo Metropolitan Government Building",
         "lon": [
          139.6921007
         ],
         "marker": {
          "color": "#19d3f3"
         },
         "mode": "markers",
         "name": "Tokyo Metropolitan Government Building",
         "showlegend": true,
         "subplot": "mapbox",
         "type": "scattermapbox"
        },
        {
         "hovertemplate": "<b>%{hovertext}</b><br><br>name=Shinjuku Golden Gai<br>lat=%{lat}<br>long=%{lon}<extra></extra>",
         "hovertext": [
          "Shinjuku Golden Gai"
         ],
         "lat": [
          35.6941118
         ],
         "legendgroup": "Shinjuku Golden Gai",
         "lon": [
          139.7047611
         ],
         "marker": {
          "color": "#FF6692"
         },
         "mode": "markers",
         "name": "Shinjuku Golden Gai",
         "showlegend": true,
         "subplot": "mapbox",
         "type": "scattermapbox"
        },
        {
         "hovertemplate": "<b>%{hovertext}</b><br><br>name=Taitō Sightseeing Volunteer Guide<br>lat=%{lat}<br>long=%{lon}<extra></extra>",
         "hovertext": [
          "Taitō Sightseeing Volunteer Guide"
         ],
         "lat": [
          35.7106489
         ],
         "legendgroup": "Taitō Sightseeing Volunteer Guide",
         "lon": [
          139.7965348
         ],
         "marker": {
          "color": "#B6E880"
         },
         "mode": "markers",
         "name": "Taitō Sightseeing Volunteer Guide",
         "showlegend": true,
         "subplot": "mapbox",
         "type": "scattermapbox"
        },
        {
         "hovertemplate": "<b>%{hovertext}</b><br><br>name=Sensō-ji<br>lat=%{lat}<br>long=%{lon}<extra></extra>",
         "hovertext": [
          "Sensō-ji"
         ],
         "lat": [
          35.7147651
         ],
         "legendgroup": "Sensō-ji",
         "lon": [
          139.7966553
         ],
         "marker": {
          "color": "#FF97FF"
         },
         "mode": "markers",
         "name": "Sensō-ji",
         "showlegend": true,
         "subplot": "mapbox",
         "type": "scattermapbox"
        },
        {
         "hovertemplate": "<b>%{hovertext}</b><br><br>name=Roppongi Hills<br>lat=%{lat}<br>long=%{lon}<extra></extra>",
         "hovertext": [
          "Roppongi Hills"
         ],
         "lat": [
          35.6602384
         ],
         "legendgroup": "Roppongi Hills",
         "lon": [
          139.7300767
         ],
         "marker": {
          "color": "#FECB52"
         },
         "mode": "markers",
         "name": "Roppongi Hills",
         "showlegend": true,
         "subplot": "mapbox",
         "type": "scattermapbox"
        },
        {
         "hovertemplate": "<b>%{hovertext}</b><br><br>name=Mori Art Museum<br>lat=%{lat}<br>long=%{lon}<extra></extra>",
         "hovertext": [
          "Mori Art Museum"
         ],
         "lat": [
          35.6604621
         ],
         "legendgroup": "Mori Art Museum",
         "lon": [
          139.7292785
         ],
         "marker": {
          "color": "#636efa"
         },
         "mode": "markers",
         "name": "Mori Art Museum",
         "showlegend": true,
         "subplot": "mapbox",
         "type": "scattermapbox"
        },
        {
         "hovertemplate": "<b>%{hovertext}</b><br><br>name=teamLab Planets TOKYO<br>lat=%{lat}<br>long=%{lon}<extra></extra>",
         "hovertext": [
          "teamLab Planets TOKYO"
         ],
         "lat": [
          35.6491207
         ],
         "legendgroup": "teamLab Planets TOKYO",
         "lon": [
          139.7897739
         ],
         "marker": {
          "color": "#EF553B"
         },
         "mode": "markers",
         "name": "teamLab Planets TOKYO",
         "showlegend": true,
         "subplot": "mapbox",
         "type": "scattermapbox"
        },
        {
         "hovertemplate": "<b>%{hovertext}</b><br><br>name=Tsukijijogai Market<br>lat=%{lat}<br>long=%{lon}<extra></extra>",
         "hovertext": [
          "Tsukijijogai Market"
         ],
         "lat": [
          35.6653213
         ],
         "legendgroup": "Tsukijijogai Market",
         "lon": [
          139.7708862
         ],
         "marker": {
          "color": "#00cc96"
         },
         "mode": "markers",
         "name": "Tsukijijogai Market",
         "showlegend": true,
         "subplot": "mapbox",
         "type": "scattermapbox"
        },
        {
         "hovertemplate": "<b>%{hovertext}</b><br><br>name=Meiji Jingu<br>lat=%{lat}<br>long=%{lon}<extra></extra>",
         "hovertext": [
          "Meiji Jingu"
         ],
         "lat": [
          35.67639760000001
         ],
         "legendgroup": "Meiji Jingu",
         "lon": [
          139.6993259
         ],
         "marker": {
          "color": "#ab63fa"
         },
         "mode": "markers",
         "name": "Meiji Jingu",
         "showlegend": true,
         "subplot": "mapbox",
         "type": "scattermapbox"
        },
        {
         "hovertemplate": "<b>%{hovertext}</b><br><br>name=Hie Shrine<br>lat=%{lat}<br>long=%{lon}<extra></extra>",
         "hovertext": [
          "Hie Shrine"
         ],
         "lat": [
          35.6746667
         ],
         "legendgroup": "Hie Shrine",
         "lon": [
          139.7399433
         ],
         "marker": {
          "color": "#FFA15A"
         },
         "mode": "markers",
         "name": "Hie Shrine",
         "showlegend": true,
         "subplot": "mapbox",
         "type": "scattermapbox"
        },
        {
         "hovertemplate": "<b>%{hovertext}</b><br><br>name=Tokyo City View<br>lat=%{lat}<br>long=%{lon}<extra></extra>",
         "hovertext": [
          "Tokyo City View"
         ],
         "lat": [
          35.6604523
         ],
         "legendgroup": "Tokyo City View",
         "lon": [
          139.7292314
         ],
         "marker": {
          "color": "#19d3f3"
         },
         "mode": "markers",
         "name": "Tokyo City View",
         "showlegend": true,
         "subplot": "mapbox",
         "type": "scattermapbox"
        },
        {
         "hovertemplate": "<b>%{hovertext}</b><br><br>name=Jūjō Ginza Shopping Street<br>lat=%{lat}<br>long=%{lon}<extra></extra>",
         "hovertext": [
          "Jūjō Ginza Shopping Street"
         ],
         "lat": [
          35.7608549
         ],
         "legendgroup": "Jūjō Ginza Shopping Street",
         "lon": [
          139.7215039
         ],
         "marker": {
          "color": "#FF6692"
         },
         "mode": "markers",
         "name": "Jūjō Ginza Shopping Street",
         "showlegend": true,
         "subplot": "mapbox",
         "type": "scattermapbox"
        },
        {
         "hovertemplate": "<b>%{hovertext}</b><br><br>name=Nakano Broadway<br>lat=%{lat}<br>long=%{lon}<extra></extra>",
         "hovertext": [
          "Nakano Broadway"
         ],
         "lat": [
          35.7092475
         ],
         "legendgroup": "Nakano Broadway",
         "lon": [
          139.6656524
         ],
         "marker": {
          "color": "#B6E880"
         },
         "mode": "markers",
         "name": "Nakano Broadway",
         "showlegend": true,
         "subplot": "mapbox",
         "type": "scattermapbox"
        },
        {
         "hovertemplate": "<b>%{hovertext}</b><br><br>name=Tokyo Station<br>lat=%{lat}<br>long=%{lon}<extra></extra>",
         "hovertext": [
          "Tokyo Station"
         ],
         "lat": [
          35.68123620000001
         ],
         "legendgroup": "Tokyo Station",
         "lon": [
          139.7671248
         ],
         "marker": {
          "color": "#FF97FF"
         },
         "mode": "markers",
         "name": "Tokyo Station",
         "showlegend": true,
         "subplot": "mapbox",
         "type": "scattermapbox"
        },
        {
         "hovertemplate": "<b>%{hovertext}</b><br><br>name=Imperial Palace<br>lat=%{lat}<br>long=%{lon}<extra></extra>",
         "hovertext": [
          "Imperial Palace"
         ],
         "lat": [
          35.685175
         ],
         "legendgroup": "Imperial Palace",
         "lon": [
          139.7527995
         ],
         "marker": {
          "color": "#FECB52"
         },
         "mode": "markers",
         "name": "Imperial Palace",
         "showlegend": true,
         "subplot": "mapbox",
         "type": "scattermapbox"
        },
        {
         "hovertemplate": "<b>%{hovertext}</b><br><br>name=Toei Animation Museum<br>lat=%{lat}<br>long=%{lon}<extra></extra>",
         "hovertext": [
          "Toei Animation Museum"
         ],
         "lat": [
          35.7523856
         ],
         "legendgroup": "Toei Animation Museum",
         "lon": [
          139.5945118
         ],
         "marker": {
          "color": "#636efa"
         },
         "mode": "markers",
         "name": "Toei Animation Museum",
         "showlegend": true,
         "subplot": "mapbox",
         "type": "scattermapbox"
        },
        {
         "hovertemplate": "<b>%{hovertext}</b><br><br>name=Kanda Myojin Shrine<br>lat=%{lat}<br>long=%{lon}<extra></extra>",
         "hovertext": [
          "Kanda Myojin Shrine"
         ],
         "lat": [
          35.7020186
         ],
         "legendgroup": "Kanda Myojin Shrine",
         "lon": [
          139.7678943
         ],
         "marker": {
          "color": "#EF553B"
         },
         "mode": "markers",
         "name": "Kanda Myojin Shrine",
         "showlegend": true,
         "subplot": "mapbox",
         "type": "scattermapbox"
        },
        {
         "hovertemplate": "<b>%{hovertext}</b><br><br>name=Suga Jinja<br>lat=%{lat}<br>long=%{lon}<extra></extra>",
         "hovertext": [
          "Suga Jinja"
         ],
         "lat": [
          35.6852851
         ],
         "legendgroup": "Suga Jinja",
         "lon": [
          139.7224783
         ],
         "marker": {
          "color": "#00cc96"
         },
         "mode": "markers",
         "name": "Suga Jinja",
         "showlegend": true,
         "subplot": "mapbox",
         "type": "scattermapbox"
        }
       ],
       "layout": {
        "legend": {
         "title": {
          "text": "name"
         },
         "tracegroupgap": 0
        },
        "mapbox": {
         "accesstoken": "pk.eyJ1Ijoic29yYWlybyIsImEiOiJjbGMxMGcydHgxdW52M3dtcnF2OHV5MmFlIn0.mMWYvNwhZje7nxhVlkxhVw",
         "center": {
          "lat": 35.68232085454546,
          "lon": 139.7300898454546
         },
         "domain": {
          "x": [
           0,
           1
          ],
          "y": [
           0,
           1
          ]
         },
         "style": "carto-darkmatter",
         "zoom": 10
        },
        "margin": {
         "t": 60
        },
        "template": {
         "data": {
          "bar": [
           {
            "error_x": {
             "color": "#2a3f5f"
            },
            "error_y": {
             "color": "#2a3f5f"
            },
            "marker": {
             "line": {
              "color": "#E5ECF6",
              "width": 0.5
             },
             "pattern": {
              "fillmode": "overlay",
              "size": 10,
              "solidity": 0.2
             }
            },
            "type": "bar"
           }
          ],
          "barpolar": [
           {
            "marker": {
             "line": {
              "color": "#E5ECF6",
              "width": 0.5
             },
             "pattern": {
              "fillmode": "overlay",
              "size": 10,
              "solidity": 0.2
             }
            },
            "type": "barpolar"
           }
          ],
          "carpet": [
           {
            "aaxis": {
             "endlinecolor": "#2a3f5f",
             "gridcolor": "white",
             "linecolor": "white",
             "minorgridcolor": "white",
             "startlinecolor": "#2a3f5f"
            },
            "baxis": {
             "endlinecolor": "#2a3f5f",
             "gridcolor": "white",
             "linecolor": "white",
             "minorgridcolor": "white",
             "startlinecolor": "#2a3f5f"
            },
            "type": "carpet"
           }
          ],
          "choropleth": [
           {
            "colorbar": {
             "outlinewidth": 0,
             "ticks": ""
            },
            "type": "choropleth"
           }
          ],
          "contour": [
           {
            "colorbar": {
             "outlinewidth": 0,
             "ticks": ""
            },
            "colorscale": [
             [
              0,
              "#0d0887"
             ],
             [
              0.1111111111111111,
              "#46039f"
             ],
             [
              0.2222222222222222,
              "#7201a8"
             ],
             [
              0.3333333333333333,
              "#9c179e"
             ],
             [
              0.4444444444444444,
              "#bd3786"
             ],
             [
              0.5555555555555556,
              "#d8576b"
             ],
             [
              0.6666666666666666,
              "#ed7953"
             ],
             [
              0.7777777777777778,
              "#fb9f3a"
             ],
             [
              0.8888888888888888,
              "#fdca26"
             ],
             [
              1,
              "#f0f921"
             ]
            ],
            "type": "contour"
           }
          ],
          "contourcarpet": [
           {
            "colorbar": {
             "outlinewidth": 0,
             "ticks": ""
            },
            "type": "contourcarpet"
           }
          ],
          "heatmap": [
           {
            "colorbar": {
             "outlinewidth": 0,
             "ticks": ""
            },
            "colorscale": [
             [
              0,
              "#0d0887"
             ],
             [
              0.1111111111111111,
              "#46039f"
             ],
             [
              0.2222222222222222,
              "#7201a8"
             ],
             [
              0.3333333333333333,
              "#9c179e"
             ],
             [
              0.4444444444444444,
              "#bd3786"
             ],
             [
              0.5555555555555556,
              "#d8576b"
             ],
             [
              0.6666666666666666,
              "#ed7953"
             ],
             [
              0.7777777777777778,
              "#fb9f3a"
             ],
             [
              0.8888888888888888,
              "#fdca26"
             ],
             [
              1,
              "#f0f921"
             ]
            ],
            "type": "heatmap"
           }
          ],
          "heatmapgl": [
           {
            "colorbar": {
             "outlinewidth": 0,
             "ticks": ""
            },
            "colorscale": [
             [
              0,
              "#0d0887"
             ],
             [
              0.1111111111111111,
              "#46039f"
             ],
             [
              0.2222222222222222,
              "#7201a8"
             ],
             [
              0.3333333333333333,
              "#9c179e"
             ],
             [
              0.4444444444444444,
              "#bd3786"
             ],
             [
              0.5555555555555556,
              "#d8576b"
             ],
             [
              0.6666666666666666,
              "#ed7953"
             ],
             [
              0.7777777777777778,
              "#fb9f3a"
             ],
             [
              0.8888888888888888,
              "#fdca26"
             ],
             [
              1,
              "#f0f921"
             ]
            ],
            "type": "heatmapgl"
           }
          ],
          "histogram": [
           {
            "marker": {
             "pattern": {
              "fillmode": "overlay",
              "size": 10,
              "solidity": 0.2
             }
            },
            "type": "histogram"
           }
          ],
          "histogram2d": [
           {
            "colorbar": {
             "outlinewidth": 0,
             "ticks": ""
            },
            "colorscale": [
             [
              0,
              "#0d0887"
             ],
             [
              0.1111111111111111,
              "#46039f"
             ],
             [
              0.2222222222222222,
              "#7201a8"
             ],
             [
              0.3333333333333333,
              "#9c179e"
             ],
             [
              0.4444444444444444,
              "#bd3786"
             ],
             [
              0.5555555555555556,
              "#d8576b"
             ],
             [
              0.6666666666666666,
              "#ed7953"
             ],
             [
              0.7777777777777778,
              "#fb9f3a"
             ],
             [
              0.8888888888888888,
              "#fdca26"
             ],
             [
              1,
              "#f0f921"
             ]
            ],
            "type": "histogram2d"
           }
          ],
          "histogram2dcontour": [
           {
            "colorbar": {
             "outlinewidth": 0,
             "ticks": ""
            },
            "colorscale": [
             [
              0,
              "#0d0887"
             ],
             [
              0.1111111111111111,
              "#46039f"
             ],
             [
              0.2222222222222222,
              "#7201a8"
             ],
             [
              0.3333333333333333,
              "#9c179e"
             ],
             [
              0.4444444444444444,
              "#bd3786"
             ],
             [
              0.5555555555555556,
              "#d8576b"
             ],
             [
              0.6666666666666666,
              "#ed7953"
             ],
             [
              0.7777777777777778,
              "#fb9f3a"
             ],
             [
              0.8888888888888888,
              "#fdca26"
             ],
             [
              1,
              "#f0f921"
             ]
            ],
            "type": "histogram2dcontour"
           }
          ],
          "mesh3d": [
           {
            "colorbar": {
             "outlinewidth": 0,
             "ticks": ""
            },
            "type": "mesh3d"
           }
          ],
          "parcoords": [
           {
            "line": {
             "colorbar": {
              "outlinewidth": 0,
              "ticks": ""
             }
            },
            "type": "parcoords"
           }
          ],
          "pie": [
           {
            "automargin": true,
            "type": "pie"
           }
          ],
          "scatter": [
           {
            "fillpattern": {
             "fillmode": "overlay",
             "size": 10,
             "solidity": 0.2
            },
            "type": "scatter"
           }
          ],
          "scatter3d": [
           {
            "line": {
             "colorbar": {
              "outlinewidth": 0,
              "ticks": ""
             }
            },
            "marker": {
             "colorbar": {
              "outlinewidth": 0,
              "ticks": ""
             }
            },
            "type": "scatter3d"
           }
          ],
          "scattercarpet": [
           {
            "marker": {
             "colorbar": {
              "outlinewidth": 0,
              "ticks": ""
             }
            },
            "type": "scattercarpet"
           }
          ],
          "scattergeo": [
           {
            "marker": {
             "colorbar": {
              "outlinewidth": 0,
              "ticks": ""
             }
            },
            "type": "scattergeo"
           }
          ],
          "scattergl": [
           {
            "marker": {
             "colorbar": {
              "outlinewidth": 0,
              "ticks": ""
             }
            },
            "type": "scattergl"
           }
          ],
          "scattermapbox": [
           {
            "marker": {
             "colorbar": {
              "outlinewidth": 0,
              "ticks": ""
             }
            },
            "type": "scattermapbox"
           }
          ],
          "scatterpolar": [
           {
            "marker": {
             "colorbar": {
              "outlinewidth": 0,
              "ticks": ""
             }
            },
            "type": "scatterpolar"
           }
          ],
          "scatterpolargl": [
           {
            "marker": {
             "colorbar": {
              "outlinewidth": 0,
              "ticks": ""
             }
            },
            "type": "scatterpolargl"
           }
          ],
          "scatterternary": [
           {
            "marker": {
             "colorbar": {
              "outlinewidth": 0,
              "ticks": ""
             }
            },
            "type": "scatterternary"
           }
          ],
          "surface": [
           {
            "colorbar": {
             "outlinewidth": 0,
             "ticks": ""
            },
            "colorscale": [
             [
              0,
              "#0d0887"
             ],
             [
              0.1111111111111111,
              "#46039f"
             ],
             [
              0.2222222222222222,
              "#7201a8"
             ],
             [
              0.3333333333333333,
              "#9c179e"
             ],
             [
              0.4444444444444444,
              "#bd3786"
             ],
             [
              0.5555555555555556,
              "#d8576b"
             ],
             [
              0.6666666666666666,
              "#ed7953"
             ],
             [
              0.7777777777777778,
              "#fb9f3a"
             ],
             [
              0.8888888888888888,
              "#fdca26"
             ],
             [
              1,
              "#f0f921"
             ]
            ],
            "type": "surface"
           }
          ],
          "table": [
           {
            "cells": {
             "fill": {
              "color": "#EBF0F8"
             },
             "line": {
              "color": "white"
             }
            },
            "header": {
             "fill": {
              "color": "#C8D4E3"
             },
             "line": {
              "color": "white"
             }
            },
            "type": "table"
           }
          ]
         },
         "layout": {
          "annotationdefaults": {
           "arrowcolor": "#2a3f5f",
           "arrowhead": 0,
           "arrowwidth": 1
          },
          "autotypenumbers": "strict",
          "coloraxis": {
           "colorbar": {
            "outlinewidth": 0,
            "ticks": ""
           }
          },
          "colorscale": {
           "diverging": [
            [
             0,
             "#8e0152"
            ],
            [
             0.1,
             "#c51b7d"
            ],
            [
             0.2,
             "#de77ae"
            ],
            [
             0.3,
             "#f1b6da"
            ],
            [
             0.4,
             "#fde0ef"
            ],
            [
             0.5,
             "#f7f7f7"
            ],
            [
             0.6,
             "#e6f5d0"
            ],
            [
             0.7,
             "#b8e186"
            ],
            [
             0.8,
             "#7fbc41"
            ],
            [
             0.9,
             "#4d9221"
            ],
            [
             1,
             "#276419"
            ]
           ],
           "sequential": [
            [
             0,
             "#0d0887"
            ],
            [
             0.1111111111111111,
             "#46039f"
            ],
            [
             0.2222222222222222,
             "#7201a8"
            ],
            [
             0.3333333333333333,
             "#9c179e"
            ],
            [
             0.4444444444444444,
             "#bd3786"
            ],
            [
             0.5555555555555556,
             "#d8576b"
            ],
            [
             0.6666666666666666,
             "#ed7953"
            ],
            [
             0.7777777777777778,
             "#fb9f3a"
            ],
            [
             0.8888888888888888,
             "#fdca26"
            ],
            [
             1,
             "#f0f921"
            ]
           ],
           "sequentialminus": [
            [
             0,
             "#0d0887"
            ],
            [
             0.1111111111111111,
             "#46039f"
            ],
            [
             0.2222222222222222,
             "#7201a8"
            ],
            [
             0.3333333333333333,
             "#9c179e"
            ],
            [
             0.4444444444444444,
             "#bd3786"
            ],
            [
             0.5555555555555556,
             "#d8576b"
            ],
            [
             0.6666666666666666,
             "#ed7953"
            ],
            [
             0.7777777777777778,
             "#fb9f3a"
            ],
            [
             0.8888888888888888,
             "#fdca26"
            ],
            [
             1,
             "#f0f921"
            ]
           ]
          },
          "colorway": [
           "#636efa",
           "#EF553B",
           "#00cc96",
           "#ab63fa",
           "#FFA15A",
           "#19d3f3",
           "#FF6692",
           "#B6E880",
           "#FF97FF",
           "#FECB52"
          ],
          "font": {
           "color": "#2a3f5f"
          },
          "geo": {
           "bgcolor": "white",
           "lakecolor": "white",
           "landcolor": "#E5ECF6",
           "showlakes": true,
           "showland": true,
           "subunitcolor": "white"
          },
          "hoverlabel": {
           "align": "left"
          },
          "hovermode": "closest",
          "mapbox": {
           "style": "light"
          },
          "paper_bgcolor": "white",
          "plot_bgcolor": "#E5ECF6",
          "polar": {
           "angularaxis": {
            "gridcolor": "white",
            "linecolor": "white",
            "ticks": ""
           },
           "bgcolor": "#E5ECF6",
           "radialaxis": {
            "gridcolor": "white",
            "linecolor": "white",
            "ticks": ""
           }
          },
          "scene": {
           "xaxis": {
            "backgroundcolor": "#E5ECF6",
            "gridcolor": "white",
            "gridwidth": 2,
            "linecolor": "white",
            "showbackground": true,
            "ticks": "",
            "zerolinecolor": "white"
           },
           "yaxis": {
            "backgroundcolor": "#E5ECF6",
            "gridcolor": "white",
            "gridwidth": 2,
            "linecolor": "white",
            "showbackground": true,
            "ticks": "",
            "zerolinecolor": "white"
           },
           "zaxis": {
            "backgroundcolor": "#E5ECF6",
            "gridcolor": "white",
            "gridwidth": 2,
            "linecolor": "white",
            "showbackground": true,
            "ticks": "",
            "zerolinecolor": "white"
           }
          },
          "shapedefaults": {
           "line": {
            "color": "#2a3f5f"
           }
          },
          "ternary": {
           "aaxis": {
            "gridcolor": "white",
            "linecolor": "white",
            "ticks": ""
           },
           "baxis": {
            "gridcolor": "white",
            "linecolor": "white",
            "ticks": ""
           },
           "bgcolor": "#E5ECF6",
           "caxis": {
            "gridcolor": "white",
            "linecolor": "white",
            "ticks": ""
           }
          },
          "title": {
           "x": 0.05
          },
          "xaxis": {
           "automargin": true,
           "gridcolor": "white",
           "linecolor": "white",
           "ticks": "",
           "title": {
            "standoff": 15
           },
           "zerolinecolor": "white",
           "zerolinewidth": 2
          },
          "yaxis": {
           "automargin": true,
           "gridcolor": "white",
           "linecolor": "white",
           "ticks": "",
           "title": {
            "standoff": 15
           },
           "zerolinecolor": "white",
           "zerolinewidth": 2
          }
         }
        }
       }
      }
     },
     "metadata": {},
     "output_type": "display_data"
    }
   ],
   "source": [
    "fig = px.scatter_mapbox(data, \n",
    "                        lat='lat', \n",
    "                        lon='long', color = \"name\", mapbox_style = \"carto-darkmatter\", zoom = 10, hover_name = 'name')\n",
    "fig.show()\n",
    "                "
   ]
  }
 ],
 "metadata": {
  "kernelspec": {
   "display_name": "base",
   "language": "python",
   "name": "python3"
  },
  "language_info": {
   "codemirror_mode": {
    "name": "ipython",
    "version": 3
   },
   "file_extension": ".py",
   "mimetype": "text/x-python",
   "name": "python",
   "nbconvert_exporter": "python",
   "pygments_lexer": "ipython3",
   "version": "3.9.7"
  },
  "orig_nbformat": 4,
  "vscode": {
   "interpreter": {
    "hash": "9f4f70181dd95a9d562a70f836fcadba96ae89ae4a502bd83f1e00f915c26e41"
   }
  }
 },
 "nbformat": 4,
 "nbformat_minor": 2
}
